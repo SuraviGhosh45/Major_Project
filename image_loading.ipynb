{
 "cells": [
  {
   "cell_type": "markdown",
   "id": "63f7fe30-d159-413a-9630-886634f95576",
   "metadata": {},
   "source": [
    "# image feature extraction"
   ]
  },
  {
   "cell_type": "code",
   "execution_count": 32,
   "id": "2a1f2fb5-8c42-4f00-aee7-2882815c03ed",
   "metadata": {},
   "outputs": [
    {
     "name": "stdin",
     "output_type": "stream",
     "text": [
      "Enter the image file path:  C:\\Users\\91629\\Desktop\\cancer prediction\\images\\testing.jpg\n"
     ]
    },
    {
     "name": "stderr",
     "output_type": "stream",
     "text": [
      "C:\\Users\\91629\\anaconda3\\Lib\\site-packages\\keras\\src\\models\\functional.py:238: UserWarning: The structure of `inputs` doesn't match the expected structure.\n",
      "Expected: ['keras_tensor_184']\n",
      "Received: inputs=Tensor(shape=(1, 224, 224, 3))\n",
      "  warnings.warn(msg)\n"
     ]
    },
    {
     "name": "stdout",
     "output_type": "stream",
     "text": [
      "WARNING:tensorflow:5 out of the last 5 calls to <function TensorFlowTrainer.make_predict_function.<locals>.one_step_on_data_distributed at 0x00000182CC67AB60> triggered tf.function retracing. Tracing is expensive and the excessive number of tracings could be due to (1) creating @tf.function repeatedly in a loop, (2) passing tensors with different shapes, (3) passing Python objects instead of tensors. For (1), please define your @tf.function outside of the loop. For (2), @tf.function has reduce_retracing=True option that can avoid unnecessary retracing. For (3), please refer to https://www.tensorflow.org/guide/function#controlling_retracing and https://www.tensorflow.org/api_docs/python/tf/function for  more details.\n",
      "\u001b[1m1/1\u001b[0m \u001b[32m━━━━━━━━━━━━━━━━━━━━\u001b[0m\u001b[37m\u001b[0m \u001b[1m1s\u001b[0m 907ms/step\n",
      "⚠️ Cancer Detected\n"
     ]
    }
   ],
   "source": [
    "import numpy as np\n",
    "import joblib\n",
    "from tensorflow.keras.applications.vgg16 import VGG16, preprocess_input\n",
    "from tensorflow.keras.preprocessing.image import load_img, img_to_array\n",
    "from tensorflow.keras.models import Model\n",
    "\n",
    "model = joblib.load('predict.pkl')\n",
    "\n",
    "# Load model \n",
    "vgg_model = VGG16()\n",
    "feature_model = Model(inputs=vgg_model.inputs, outputs=vgg_model.layers[-2].output)\n",
    "\n",
    "# Load and preprocess\n",
    "image_path = input(\"Enter the image file path: \")  # e.g., 'images/test.jpg'\n",
    "img = load_img(image_path, target_size=(224, 224))\n",
    "img_array = img_to_array(img)\n",
    "img_array = img_array.reshape((1, *img_array.shape))\n",
    "img_array = preprocess_input(img_array)\n",
    "\n",
    "# Extract features \n",
    "features = feature_model.predict(img_array)\n",
    "feature_vector_30 = features[0][:30]\n",
    "\n",
    "# Reshape \n",
    "input_reshaped = np.array(feature_vector_30).reshape(1, -1)\n",
    "\n",
    "prediction = model.predict(input_reshaped)\n",
    "if prediction[0] == 1:\n",
    "    print(\"⚠️ Cancer Detected\")\n",
    "else:\n",
    "    print(\"✅ You are Safe\")\n"
   ]
  },
  {
   "cell_type": "code",
   "execution_count": null,
   "id": "7907bc92-4e46-45cc-bba8-5e00d6d9bb78",
   "metadata": {},
   "outputs": [],
   "source": []
  }
 ],
 "metadata": {
  "kernelspec": {
   "display_name": "Python 3 (ipykernel)",
   "language": "python",
   "name": "python3"
  },
  "language_info": {
   "codemirror_mode": {
    "name": "ipython",
    "version": 3
   },
   "file_extension": ".py",
   "mimetype": "text/x-python",
   "name": "python",
   "nbconvert_exporter": "python",
   "pygments_lexer": "ipython3",
   "version": "3.12.7"
  }
 },
 "nbformat": 4,
 "nbformat_minor": 5
}
