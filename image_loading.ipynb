{
 "cells": [
  {
   "cell_type": "markdown",
   "id": "63f7fe30-d159-413a-9630-886634f95576",
   "metadata": {},
   "source": [
    "# image feature extraction"
   ]
  },
  {
   "cell_type": "code",
   "execution_count": 12,
   "id": "e5b5775c-17a0-4571-9621-fc19bfa68628",
   "metadata": {},
   "outputs": [],
   "source": [
    "from tensorflow.keras.preprocessing.image import load_img, img_to_array\n",
    "from tensorflow.keras.applications.vgg16 import VGG16, preprocess_input\n",
    "from tensorflow.keras.models import Model\n",
    "import numpy as np"
   ]
  },
  {
   "cell_type": "code",
   "execution_count": 6,
   "id": "0636f309-7ef5-4b21-a251-50d1a257b3b4",
   "metadata": {},
   "outputs": [],
   "source": [
    "#loading the model\n",
    "img_model = VGG16()\n",
    "#restructure\n",
    "model = Model(inputs=img_model.input, outputs=img_model.layers[-2].output)"
   ]
  },
  {
   "cell_type": "code",
   "execution_count": 8,
   "id": "8bcf0132-24e8-4cac-b349-0647f5fd07e8",
   "metadata": {},
   "outputs": [],
   "source": [
    "# Image path\n",
    "image_path = r\"C:\\Users\\91629\\Desktop\\cancer prediction\\images\\testing.jpg\"\n",
    "\n",
    "# Preprocess and extract features\n",
    "img = load_img(image_path, target_size=(224, 224))\n",
    "img = img_to_array(img)\n",
    "img = img.reshape((1, *img.shape))\n",
    "img = preprocess_input(img)\n",
    "\n",
    "# Predict features\n",
    "features = model.predict(img, verbose=0)"
   ]
  },
  {
   "cell_type": "code",
   "execution_count": 10,
   "id": "4c5a2301-90ed-40c5-b95d-52bcba14df7f",
   "metadata": {},
   "outputs": [],
   "source": [
    "# Use first 30 features\n",
    "feature_vector_30 = features[0][:30]"
   ]
  },
  {
   "cell_type": "code",
   "execution_count": 18,
   "id": "2a1f2fb5-8c42-4f00-aee7-2882815c03ed",
   "metadata": {},
   "outputs": [
    {
     "ename": "NameError",
     "evalue": "name 'input_30' is not defined",
     "output_type": "error",
     "traceback": [
      "\u001b[1;31m---------------------------------------------------------------------------\u001b[0m",
      "\u001b[1;31mNameError\u001b[0m                                 Traceback (most recent call last)",
      "Cell \u001b[1;32mIn[18], line 7\u001b[0m\n\u001b[0;32m      4\u001b[0m model \u001b[38;5;241m=\u001b[39m joblib\u001b[38;5;241m.\u001b[39mload(\u001b[38;5;124m'\u001b[39m\u001b[38;5;124mpredict.pkl\u001b[39m\u001b[38;5;124m'\u001b[39m)\n\u001b[0;32m      6\u001b[0m \u001b[38;5;66;03m# Use the 30-dimensional input vector\u001b[39;00m\n\u001b[1;32m----> 7\u001b[0m input_reshaped \u001b[38;5;241m=\u001b[39m input_30\u001b[38;5;241m.\u001b[39mreshape(\u001b[38;5;241m1\u001b[39m, \u001b[38;5;241m-\u001b[39m\u001b[38;5;241m1\u001b[39m)  \u001b[38;5;66;03m# Shape (1, 30)\u001b[39;00m\n\u001b[0;32m      9\u001b[0m \u001b[38;5;66;03m# Predict\u001b[39;00m\n\u001b[0;32m     10\u001b[0m prediction \u001b[38;5;241m=\u001b[39m model\u001b[38;5;241m.\u001b[39mpredict(input_reshaped)\n",
      "\u001b[1;31mNameError\u001b[0m: name 'input_30' is not defined"
     ]
    }
   ],
   "source": [
    "import joblib\n",
    "\n",
    "# Load your trained logistic regression model\n",
    "model = joblib.load('predict.pkl')\n",
    "\n",
    "# Use the 30-dimensional input vector\n",
    "input_reshaped = input_30.reshape(1, -1)  # Shape (1, 30)\n",
    "\n",
    "# Predict\n",
    "prediction = model.predict(input_reshaped)\n",
    "\n",
    "# Output result\n",
    "if prediction[0] == 1:\n",
    "    print(\"⚠️ Cancer Detected\")\n",
    "else:\n",
    "    print(\"✅ You are Safe\")"
   ]
  },
  {
   "cell_type": "code",
   "execution_count": null,
   "id": "7907bc92-4e46-45cc-bba8-5e00d6d9bb78",
   "metadata": {},
   "outputs": [],
   "source": []
  }
 ],
 "metadata": {
  "kernelspec": {
   "display_name": "Python 3 (ipykernel)",
   "language": "python",
   "name": "python3"
  },
  "language_info": {
   "codemirror_mode": {
    "name": "ipython",
    "version": 3
   },
   "file_extension": ".py",
   "mimetype": "text/x-python",
   "name": "python",
   "nbconvert_exporter": "python",
   "pygments_lexer": "ipython3",
   "version": "3.12.7"
  }
 },
 "nbformat": 4,
 "nbformat_minor": 5
}
